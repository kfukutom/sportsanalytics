{
  "nbformat": 4,
  "nbformat_minor": 0,
  "metadata": {
    "colab": {
      "provenance": []
    },
    "kernelspec": {
      "name": "python3",
      "display_name": "Python 3"
    },
    "language_info": {
      "name": "python"
    }
  },
  "cells": [
    {
      "cell_type": "code",
      "execution_count": 1,
      "metadata": {
        "id": "BLrCaPxM4Ksu"
      },
      "outputs": [],
      "source": [
        "import requests\n",
        "from bs4 import BeautifulSoup"
      ]
    },
    {
      "cell_type": "code",
      "source": [
        "url = requests.get('https://www.sports-reference.com/cfb/schools/michigan/passing.html')\n",
        "soup = BeautifulSoup(url.text, 'html.parser')"
      ],
      "metadata": {
        "id": "vC_GsrsY8RG_"
      },
      "execution_count": 55,
      "outputs": []
    },
    {
      "cell_type": "code",
      "source": [
        "table = soup.find('div', attrs = {'id' : 'div_passing'}).find('table').find('tbody')"
      ],
      "metadata": {
        "id": "eGnsJP6D-VtE"
      },
      "execution_count": 56,
      "outputs": []
    },
    {
      "cell_type": "code",
      "source": [
        "#list initialization\n",
        "lst_name = []\n",
        "lst_cmp = []\n",
        "lst_size =[]\n",
        "lst_rtng = []"
      ],
      "metadata": {
        "id": "rLDjmnoOsCvr"
      },
      "execution_count": 57,
      "outputs": []
    },
    {
      "cell_type": "code",
      "source": [
        "rows = table.find_all('tr')\n",
        "#for loop\n",
        "for row in rows:\n",
        "  columns = row.find_all('td')\n",
        "\n",
        "  if len(columns) > 0:\n",
        "    name = columns[0].find('a').text\n",
        "    lst_name.append(name)\n",
        "    yearsActive = columns[1].text + \"-\" + columns[2].text\n",
        "    cmp = float(columns[3].text)\n",
        "    pct = round(float(columns[5].text), 1)\n",
        "\n",
        "    #Attributed Player Ratings\n",
        "    if(columns[11].text != ''):\n",
        "      rtng = float(columns[11].text)\n",
        "    elif(columns[11].text == ''):\n",
        "      rtng = float(0.00) #Data Cleaning Available\n",
        "\n",
        "    lst_rtng.append(rtng)\n",
        "    lst_cmp.append(cmp)\n",
        "    cfb = [name, yearsActive, cmp, pct, rtng]\n",
        "    print(cfb)\n"
      ],
      "metadata": {
        "colab": {
          "base_uri": "https://localhost:8080/"
        },
        "id": "klG2gcu1-zuo",
        "outputId": "8407c4ba-9d3d-40ee-b6d2-1ce228c648d8"
      },
      "execution_count": 58,
      "outputs": [
        {
          "output_type": "stream",
          "name": "stdout",
          "text": [
            "['Chad Henne', '2004-2007', 828.0, 59.7, 133.9]\n",
            "['John Navarre', '2000-2003', 744.0, 56.1, 126.0]\n",
            "['Devin Gardner', '2010-2014', 475.0, 60.4, 138.3]\n",
            "['Denard Robinson', '2009-2012', 427.0, 57.2, 138.6]\n",
            "['J.J. McCarthy', '2021-2023', 482.0, 67.6, 160.5]\n",
            "['Elvis Grbac', '1989-1992', 476.0, 63.1, 148.7]\n",
            "['Shea Patterson', '2018-2019', 424.0, 60.1, 144.2]\n",
            "['Todd Collins', '1991-1994', 431.0, 65.0, 146.5]\n",
            "['Jim Harbaugh', '1983-1986', 368.0, 63.2, 149.5]\n",
            "['Tom Brady', '1996-1999', 395.0, 61.9, 134.9]\n",
            "['Steve Smith', '1980-1983', 300.0, 50.1, 126.2]\n",
            "['Rick Leach', '1975-1978', 220.0, 47.6, 136.3]\n",
            "['Brian Griese', '1995-1997', 307.0, 59.5, 130.6]\n",
            "['Wilton Speight', '2015-2017', 257.0, 58.8, 132.2]\n",
            "['Cade McNamara', '2020-2022', 267.0, 63.1, 139.4]\n",
            "['Jake Rudock', '2015-2015', 249.0, 64.0, 141.5]\n",
            "['Scott Dreisbach', '1995-1998', 208.0, 54.7, 126.0]\n",
            "['Tate Forcier', '2009-2010', 219.0, 60.0, 128.6]\n",
            "['John Wangler', '1976-1980', 179.0, 56.3, 139.4]\n",
            "['Drew Henson', '1998-2000', 196.0, 55.8, 135.5]\n",
            "['Dennis Brown', '1966-1968', 195.0, 50.0, 112.5]\n",
            "['Dick Vidmer', '1965-1967', 187.0, 49.0, 102.0]\n",
            "['Don Moorhead', '1968-1970', 186.0, 47.3, 103.7]\n",
            "['Dennis Franklin', '1972-1974', 153.0, 52.0, 129.4]\n",
            "['Michael Taylor', '1986-1989', 151.0, 59.9, 146.1]\n",
            "['Demetrius Brown', '1987-1988', 113.0, 52.6, 131.4]\n",
            "['Bob Timberlake', '1962-1964', 126.0, 48.6, 100.8]\n",
            "['Dave Glinka', '1960-1962', 107.0, 45.1, 93.9]\n",
            "['Stan Noskin', '1957-1959', 98.0, 50.0, 87.4]\n",
            "['Joe Milton', '2018-2020', 86.0, 56.6, 125.5]\n",
            "[\"John O'Korn\", '2015-2017', 104.0, 54.5, 105.5]\n",
            "['Steven Threet', '2008-2008', 102.0, 51.0, 105.3]\n",
            "['Bob Ptacek', '1956-1958', 82.0, 58.2, 120.4]\n",
            "['Ryan Mallett', '2007-2007', 61.0, 43.3, 105.7]\n",
            "['Jim Van Pelt', '1956-1957', 57.0, 50.4, 129.9]\n",
            "['Wally Gabler', '1964-1965', 58.0, 45.7, 107.5]\n",
            "['Chris Zurbrugg', '1984-1986', 63.0, 52.9, 109.9]\n",
            "['Bob Chandler', '1961-1963', 51.0, 47.7, 105.1]\n",
            "['Nick Sheridan', '2008-2009', 70.0, 47.3, 83.4]\n",
            "['Brandon Peters', '2017-2018', 58.0, 52.7, 111.2]\n",
            "['B.J. Dickey', '1977-1981', 49.0, 47.6, 115.0]\n",
            "['Shane Morris', '2013-2016', 47.0, 51.1, 79.8]\n",
            "['Larry Cipa', '1971-1973', 24.0, 34.3, 74.5]\n",
            "['Tom Slade', '1971-1971', 24.0, 45.3, 100.0]\n",
            "['Jim Betts', '1968-1969', 16.0, 48.5, 153.1]\n",
            "['Matt Gutierrez', '2003-2005', 27.0, 65.9, 132.5]\n",
            "['Frosty Evashevski', '1962-1964', 24.0, 36.9, 53.0]\n",
            "['Dylan McCaffrey', '2018-2020', 18.0, 51.4, 137.8]\n",
            "['Mark Elzinga', '1974-1975', 13.0, 32.5, 97.0]\n",
            "['Jim Maddock', '1956-1956', 19.0, 45.2, 73.6]\n",
            "['Terry Barr', '1956-1956', 5.0, 83.3, 455.1]\n",
            "['David Hall', '1982-1983', 20.0, 51.3, 90.7]\n",
            "['Kevin Casey', '1971-1971', 14.0, 41.2, 85.8]\n",
            "['Ken Sollom', '1988-1991', 13.0, 76.5, 169.5]\n",
            "['Russ Rein', '1984-1985', 17.0, 54.8, 84.6]\n",
            "['Rich Hewlett', '1979-1983', 8.0, 34.8, 103.0]\n",
            "['Darrell Harper', '1957-1959', 8.0, 53.3, 126.7]\n",
            "['Jack Tuttle', '2023-2023', 15.0, 88.2, 171.9]\n",
            "['Spencer Brinton', '2001-2004', 11.0, 50.0, 96.2]\n",
            "['Jason Carr', '1992-1995', 11.0, 47.8, 72.1]\n",
            "['Donovan Edwards', '2021-2023', 3.0, 100.0, 512.4]\n",
            "['John Stamos', '1959-1960', 5.0, 23.8, 21.7]\n",
            "['Jim Pace', '1956-1957', 7.0, 46.7, 83.2]\n",
            "['Jack McBride', '1970-1971', 5.0, 45.5, 113.4]\n",
            "['Davis Warren', '2021-2023', 5.0, 35.7, 74.8]\n",
            "['Jermaine Gonzales', '2001-2004', 7.0, 53.8, 110.7]\n",
            "['Jay Riemersma', '1992-1995', 6.0, 42.9, 113.8]\n",
            "['David Cone', '2007-2009', 4.0, 66.7, 171.7]\n",
            "['Alan Bowman', '2021-2022', 8.0, 72.7, 137.2]\n",
            "['Vince Bean', '1981-1984', 1.0, 100.0, 992.8]\n",
            "['Don Hannah', '1959-1960', 6.0, 27.3, 41.9]\n",
            "['Brad Myers', '1957-1959', 5.0, 62.5, 126.6]\n",
            "['Jason Kapsner', '1997-1999', 5.0, 50.0, 98.7]\n",
            "['Dick Sygar', '1964-1965', 2.0, 50.0, 284.7]\n",
            "['Clayton Richard', '2004-2004', 8.0, 53.3, 82.5]\n",
            "['Marquise Walker', '1998-2001', 1.0, 33.3, 109.5]\n",
            "['Jayden Denegal', '2022-2023', 4.0, 80.0, 230.0]\n",
            "['Dick Rindfuss', '1962-1964', 1.0, 50.0, 247.4]\n",
            "['Greg McMurtry', '1986-1989', 1.0, 50.0, 308.2]\n",
            "['Russell Bellomy', '2012-2014', 4.0, 17.4, -0.6]\n",
            "['John Spidel', '1957-1958', 4.0, 36.4, -3.5]\n",
            "['Gerald White', '1983-1986', 1.0, 100.0, 436.0]\n",
            "['Wilbur Odom', '1988-1989', 3.0, 42.9, 33.7]\n",
            "['Amani Toomer', '1992-1995', 1.0, 50.0, 105.4]\n",
            "['Andy Mignery', '2000-2003', 3.0, 75.0, 152.7]\n",
            "['Steve Breaston', '2003-2006', 1.0, 50.0, 366.2]\n",
            "['Rick Volk', '1964-1964', 1.0, 100.0, 707.2]\n",
            "['Stacy Johnson', '1976-1976', 2.0, 66.7, 150.7]\n",
            "['Jason Forcier', '2006-2006', 3.0, 100.0, 184.0]\n",
            "['Charles Woodson', '1995-1997', 1.0, 100.0, 335.2]\n",
            "['Harry Newman Jr.', '1958-1959', 1.0, 50.0, 63.4]\n",
            "['Dan Villari', '2020-2021', 1.0, 33.3, 106.1]\n",
            "['Ed Shannon', '1956-1956', 2.0, 66.7, 246.7]\n",
            "['Michael Barrett', '2019-2023', 1.0, 100.0, 310.0]\n",
            "['Ron Kramer', '1956-1956', 1.0, 50.0, 146.6]\n",
            "['DiAllo Johnson', '1997-1999', 1.0, 100.0, 293.2]\n",
            "['Walter Cross', '1998-2001', 1.0, 50.0, 203.2]\n",
            "['Drake Johnson', '2013-2015', 1.0, 100.0, 251.2]\n",
            "['Vincent Smith', '2009-2012', 1.0, 33.3, 124.3]\n",
            "['Kalel Mullings', '2020-2023', 1.0, 100.0, 226.0]\n",
            "['Antonio Bass', '2005-2005', 1.0, 100.0, 209.2]\n",
            "['Grant Perry', '2015-2018', 1.0, 100.0, 200.8]\n",
            "['Gordon Bell', '1973-1975', 1.0, 100.0, 522.4]\n",
            "['Adrian Arrington', '2004-2007', 1.0, 50.0, 261.2]\n",
            "['Drew Dileo', '2010-2013', 1.0, 100.0, 192.4]\n",
            "['Paul Palmer', '1959-1959', 2.0, 20.0, 0.0]\n",
            "['Carl Ward', '1964-1966', 2.0, 66.7, 196.3]\n",
            "['Jack Kennedy', '2009-2012', 1.0, 100.0, 158.8]\n",
            "['Brandon Mann', '2022-2023', 1.0, 100.0, 158.8]\n",
            "['Hayden Epstein', '1998-2001', 1.0, 100.0, 150.4]\n",
            "['John Ceddia', '1976-1976', 1.0, 100.0, 142.0]\n",
            "['Gary Lee', '1979-1979', 1.0, 25.0, 35.5]\n",
            "['Alex Orji', '2022-2023', 1.0, 100.0, 142.0]\n",
            "['Andy Maddox', '2020-2022', 1.0, 100.0, 133.6]\n",
            "['Tom Prichard', '1962-1962', 1.0, 50.0, 0.0]\n",
            "['John Herrnstein', '1956-1958', 0.0, 0.0, -200.0]\n",
            "['Mike Shatusky', '1956-1957', 0.0, 0.0, -200.0]\n",
            "['Fred Julian', '1958-1959', 0.0, 0.0, -200.0]\n",
            "['Reid Bushong', '1958-1960', 0.0, 0.0, 0.0]\n",
            "['Peter Hollis', '1964-1964', 0.0, 0.0, 0.0]\n",
            "['Butch Woolfolk', '1978-1981', 0.0, 0.0, -200.0]\n",
            "['Anthony Carter', '1979-1982', 0.0, 0.0, 0.0]\n",
            "['Bryan Virgil', '1979-1979', 0.0, 0.0, 0.0]\n",
            "['Rick Rogers', '1981-1984', 0.0, 0.0, 0.0]\n",
            "['Leroy Hoard', '1987-1989', 0.0, 0.0, 0.0]\n",
            "['Yale Van Dyne', '1990-1991', 0.0, 0.0, -200.0]\n",
            "['Tshimanga Biakabutuka', '1993-1995', 0.0, 0.0, 0.0]\n",
            "['Chris Howard', '1994-1997', 0.0, 0.0, 0.0]\n",
            "['Tyrone Butterfield', '1995-1996', 0.0, 0.0, 0.0]\n",
            "['Anthony Thomas', '1997-2000', 0.0, 0.0, 0.0]\n",
            "['Jeff Kastl', '2005-2005', 0.0, 0.0, 0.0]\n",
            "['Jeremy Gallon', '2010-2013', 0.0, 0.0, 0.0]\n",
            "['Jabrill Peppers', '2014-2016', 0.0, 0.0, 0.0]\n",
            "['Ronnie Bell', '2018-2022', 0.0, 0.0, 0.0]\n",
            "['Hassan Haskins', '2019-2021', 0.0, 0.0, 0.0]\n"
          ]
        }
      ]
    },
    {
      "cell_type": "code",
      "source": [
        "import numpy as np\n",
        "import pandas as pd\n",
        "import seaborn as sb\n",
        "import matplotlib.pyplot as plt\n",
        "import seaborn as sb"
      ],
      "metadata": {
        "id": "8LSHeZQ2C5pK"
      },
      "execution_count": 59,
      "outputs": []
    },
    {
      "cell_type": "code",
      "source": [
        "playerinfo = {\"NAME\": lst_name,\n",
        "              \"CMP\": lst_cmp,\n",
        "              \"RTNG\": lst_rtng}\n",
        "len(playerinfo['NAME'])\n",
        "\n",
        "for i in range(len(playerinfo[\"NAME\"])-1):\n",
        "  lst_size.append(i)\n",
        "\n",
        "df = pd.DataFrame(data=playerinfo)\n",
        "df.rename(columns={\"NAME\": \"Players\", \"CMP\": \"Completions\", \"RTNG\": \"Rating\" }, inplace=True)\n",
        "df.head()"
      ],
      "metadata": {
        "colab": {
          "base_uri": "https://localhost:8080/",
          "height": 206
        },
        "id": "VQ6zNESxDBvd",
        "outputId": "3c24de65-f2d3-4c39-da2b-6afeb2d47942"
      },
      "execution_count": 60,
      "outputs": [
        {
          "output_type": "execute_result",
          "data": {
            "text/plain": [
              "           Players  Completions  Rating\n",
              "0       Chad Henne        828.0   133.9\n",
              "1     John Navarre        744.0   126.0\n",
              "2    Devin Gardner        475.0   138.3\n",
              "3  Denard Robinson        427.0   138.6\n",
              "4    J.J. McCarthy        482.0   160.5"
            ],
            "text/html": [
              "\n",
              "  <div id=\"df-3332c288-006f-4511-90e7-251bab71e59e\" class=\"colab-df-container\">\n",
              "    <div>\n",
              "<style scoped>\n",
              "    .dataframe tbody tr th:only-of-type {\n",
              "        vertical-align: middle;\n",
              "    }\n",
              "\n",
              "    .dataframe tbody tr th {\n",
              "        vertical-align: top;\n",
              "    }\n",
              "\n",
              "    .dataframe thead th {\n",
              "        text-align: right;\n",
              "    }\n",
              "</style>\n",
              "<table border=\"1\" class=\"dataframe\">\n",
              "  <thead>\n",
              "    <tr style=\"text-align: right;\">\n",
              "      <th></th>\n",
              "      <th>Players</th>\n",
              "      <th>Completions</th>\n",
              "      <th>Rating</th>\n",
              "    </tr>\n",
              "  </thead>\n",
              "  <tbody>\n",
              "    <tr>\n",
              "      <th>0</th>\n",
              "      <td>Chad Henne</td>\n",
              "      <td>828.0</td>\n",
              "      <td>133.9</td>\n",
              "    </tr>\n",
              "    <tr>\n",
              "      <th>1</th>\n",
              "      <td>John Navarre</td>\n",
              "      <td>744.0</td>\n",
              "      <td>126.0</td>\n",
              "    </tr>\n",
              "    <tr>\n",
              "      <th>2</th>\n",
              "      <td>Devin Gardner</td>\n",
              "      <td>475.0</td>\n",
              "      <td>138.3</td>\n",
              "    </tr>\n",
              "    <tr>\n",
              "      <th>3</th>\n",
              "      <td>Denard Robinson</td>\n",
              "      <td>427.0</td>\n",
              "      <td>138.6</td>\n",
              "    </tr>\n",
              "    <tr>\n",
              "      <th>4</th>\n",
              "      <td>J.J. McCarthy</td>\n",
              "      <td>482.0</td>\n",
              "      <td>160.5</td>\n",
              "    </tr>\n",
              "  </tbody>\n",
              "</table>\n",
              "</div>\n",
              "    <div class=\"colab-df-buttons\">\n",
              "\n",
              "  <div class=\"colab-df-container\">\n",
              "    <button class=\"colab-df-convert\" onclick=\"convertToInteractive('df-3332c288-006f-4511-90e7-251bab71e59e')\"\n",
              "            title=\"Convert this dataframe to an interactive table.\"\n",
              "            style=\"display:none;\">\n",
              "\n",
              "  <svg xmlns=\"http://www.w3.org/2000/svg\" height=\"24px\" viewBox=\"0 -960 960 960\">\n",
              "    <path d=\"M120-120v-720h720v720H120Zm60-500h600v-160H180v160Zm220 220h160v-160H400v160Zm0 220h160v-160H400v160ZM180-400h160v-160H180v160Zm440 0h160v-160H620v160ZM180-180h160v-160H180v160Zm440 0h160v-160H620v160Z\"/>\n",
              "  </svg>\n",
              "    </button>\n",
              "\n",
              "  <style>\n",
              "    .colab-df-container {\n",
              "      display:flex;\n",
              "      gap: 12px;\n",
              "    }\n",
              "\n",
              "    .colab-df-convert {\n",
              "      background-color: #E8F0FE;\n",
              "      border: none;\n",
              "      border-radius: 50%;\n",
              "      cursor: pointer;\n",
              "      display: none;\n",
              "      fill: #1967D2;\n",
              "      height: 32px;\n",
              "      padding: 0 0 0 0;\n",
              "      width: 32px;\n",
              "    }\n",
              "\n",
              "    .colab-df-convert:hover {\n",
              "      background-color: #E2EBFA;\n",
              "      box-shadow: 0px 1px 2px rgba(60, 64, 67, 0.3), 0px 1px 3px 1px rgba(60, 64, 67, 0.15);\n",
              "      fill: #174EA6;\n",
              "    }\n",
              "\n",
              "    .colab-df-buttons div {\n",
              "      margin-bottom: 4px;\n",
              "    }\n",
              "\n",
              "    [theme=dark] .colab-df-convert {\n",
              "      background-color: #3B4455;\n",
              "      fill: #D2E3FC;\n",
              "    }\n",
              "\n",
              "    [theme=dark] .colab-df-convert:hover {\n",
              "      background-color: #434B5C;\n",
              "      box-shadow: 0px 1px 3px 1px rgba(0, 0, 0, 0.15);\n",
              "      filter: drop-shadow(0px 1px 2px rgba(0, 0, 0, 0.3));\n",
              "      fill: #FFFFFF;\n",
              "    }\n",
              "  </style>\n",
              "\n",
              "    <script>\n",
              "      const buttonEl =\n",
              "        document.querySelector('#df-3332c288-006f-4511-90e7-251bab71e59e button.colab-df-convert');\n",
              "      buttonEl.style.display =\n",
              "        google.colab.kernel.accessAllowed ? 'block' : 'none';\n",
              "\n",
              "      async function convertToInteractive(key) {\n",
              "        const element = document.querySelector('#df-3332c288-006f-4511-90e7-251bab71e59e');\n",
              "        const dataTable =\n",
              "          await google.colab.kernel.invokeFunction('convertToInteractive',\n",
              "                                                    [key], {});\n",
              "        if (!dataTable) return;\n",
              "\n",
              "        const docLinkHtml = 'Like what you see? Visit the ' +\n",
              "          '<a target=\"_blank\" href=https://colab.research.google.com/notebooks/data_table.ipynb>data table notebook</a>'\n",
              "          + ' to learn more about interactive tables.';\n",
              "        element.innerHTML = '';\n",
              "        dataTable['output_type'] = 'display_data';\n",
              "        await google.colab.output.renderOutput(dataTable, element);\n",
              "        const docLink = document.createElement('div');\n",
              "        docLink.innerHTML = docLinkHtml;\n",
              "        element.appendChild(docLink);\n",
              "      }\n",
              "    </script>\n",
              "  </div>\n",
              "\n",
              "\n",
              "<div id=\"df-3a7357ed-d7c9-4b79-87b9-f9178cb4edce\">\n",
              "  <button class=\"colab-df-quickchart\" onclick=\"quickchart('df-3a7357ed-d7c9-4b79-87b9-f9178cb4edce')\"\n",
              "            title=\"Suggest charts\"\n",
              "            style=\"display:none;\">\n",
              "\n",
              "<svg xmlns=\"http://www.w3.org/2000/svg\" height=\"24px\"viewBox=\"0 0 24 24\"\n",
              "     width=\"24px\">\n",
              "    <g>\n",
              "        <path d=\"M19 3H5c-1.1 0-2 .9-2 2v14c0 1.1.9 2 2 2h14c1.1 0 2-.9 2-2V5c0-1.1-.9-2-2-2zM9 17H7v-7h2v7zm4 0h-2V7h2v10zm4 0h-2v-4h2v4z\"/>\n",
              "    </g>\n",
              "</svg>\n",
              "  </button>\n",
              "\n",
              "<style>\n",
              "  .colab-df-quickchart {\n",
              "      --bg-color: #E8F0FE;\n",
              "      --fill-color: #1967D2;\n",
              "      --hover-bg-color: #E2EBFA;\n",
              "      --hover-fill-color: #174EA6;\n",
              "      --disabled-fill-color: #AAA;\n",
              "      --disabled-bg-color: #DDD;\n",
              "  }\n",
              "\n",
              "  [theme=dark] .colab-df-quickchart {\n",
              "      --bg-color: #3B4455;\n",
              "      --fill-color: #D2E3FC;\n",
              "      --hover-bg-color: #434B5C;\n",
              "      --hover-fill-color: #FFFFFF;\n",
              "      --disabled-bg-color: #3B4455;\n",
              "      --disabled-fill-color: #666;\n",
              "  }\n",
              "\n",
              "  .colab-df-quickchart {\n",
              "    background-color: var(--bg-color);\n",
              "    border: none;\n",
              "    border-radius: 50%;\n",
              "    cursor: pointer;\n",
              "    display: none;\n",
              "    fill: var(--fill-color);\n",
              "    height: 32px;\n",
              "    padding: 0;\n",
              "    width: 32px;\n",
              "  }\n",
              "\n",
              "  .colab-df-quickchart:hover {\n",
              "    background-color: var(--hover-bg-color);\n",
              "    box-shadow: 0 1px 2px rgba(60, 64, 67, 0.3), 0 1px 3px 1px rgba(60, 64, 67, 0.15);\n",
              "    fill: var(--button-hover-fill-color);\n",
              "  }\n",
              "\n",
              "  .colab-df-quickchart-complete:disabled,\n",
              "  .colab-df-quickchart-complete:disabled:hover {\n",
              "    background-color: var(--disabled-bg-color);\n",
              "    fill: var(--disabled-fill-color);\n",
              "    box-shadow: none;\n",
              "  }\n",
              "\n",
              "  .colab-df-spinner {\n",
              "    border: 2px solid var(--fill-color);\n",
              "    border-color: transparent;\n",
              "    border-bottom-color: var(--fill-color);\n",
              "    animation:\n",
              "      spin 1s steps(1) infinite;\n",
              "  }\n",
              "\n",
              "  @keyframes spin {\n",
              "    0% {\n",
              "      border-color: transparent;\n",
              "      border-bottom-color: var(--fill-color);\n",
              "      border-left-color: var(--fill-color);\n",
              "    }\n",
              "    20% {\n",
              "      border-color: transparent;\n",
              "      border-left-color: var(--fill-color);\n",
              "      border-top-color: var(--fill-color);\n",
              "    }\n",
              "    30% {\n",
              "      border-color: transparent;\n",
              "      border-left-color: var(--fill-color);\n",
              "      border-top-color: var(--fill-color);\n",
              "      border-right-color: var(--fill-color);\n",
              "    }\n",
              "    40% {\n",
              "      border-color: transparent;\n",
              "      border-right-color: var(--fill-color);\n",
              "      border-top-color: var(--fill-color);\n",
              "    }\n",
              "    60% {\n",
              "      border-color: transparent;\n",
              "      border-right-color: var(--fill-color);\n",
              "    }\n",
              "    80% {\n",
              "      border-color: transparent;\n",
              "      border-right-color: var(--fill-color);\n",
              "      border-bottom-color: var(--fill-color);\n",
              "    }\n",
              "    90% {\n",
              "      border-color: transparent;\n",
              "      border-bottom-color: var(--fill-color);\n",
              "    }\n",
              "  }\n",
              "</style>\n",
              "\n",
              "  <script>\n",
              "    async function quickchart(key) {\n",
              "      const quickchartButtonEl =\n",
              "        document.querySelector('#' + key + ' button');\n",
              "      quickchartButtonEl.disabled = true;  // To prevent multiple clicks.\n",
              "      quickchartButtonEl.classList.add('colab-df-spinner');\n",
              "      try {\n",
              "        const charts = await google.colab.kernel.invokeFunction(\n",
              "            'suggestCharts', [key], {});\n",
              "      } catch (error) {\n",
              "        console.error('Error during call to suggestCharts:', error);\n",
              "      }\n",
              "      quickchartButtonEl.classList.remove('colab-df-spinner');\n",
              "      quickchartButtonEl.classList.add('colab-df-quickchart-complete');\n",
              "    }\n",
              "    (() => {\n",
              "      let quickchartButtonEl =\n",
              "        document.querySelector('#df-3a7357ed-d7c9-4b79-87b9-f9178cb4edce button');\n",
              "      quickchartButtonEl.style.display =\n",
              "        google.colab.kernel.accessAllowed ? 'block' : 'none';\n",
              "    })();\n",
              "  </script>\n",
              "</div>\n",
              "    </div>\n",
              "  </div>\n"
            ]
          },
          "metadata": {},
          "execution_count": 60
        }
      ]
    },
    {
      "cell_type": "code",
      "source": [
        "df.dropna(subset=\"Rating\", inplace=True)\n",
        "len((df[\"Rating\"].isna())==False) #count how many !NaN\n",
        "\n",
        "df['Rating'][105]"
      ],
      "metadata": {
        "colab": {
          "base_uri": "https://localhost:8080/"
        },
        "id": "dCTcTtYhtEkK",
        "outputId": "2a995573-5bc5-4576-b0d2-6f9f77c39f00"
      },
      "execution_count": 61,
      "outputs": [
        {
          "output_type": "execute_result",
          "data": {
            "text/plain": [
              "0.0"
            ]
          },
          "metadata": {},
          "execution_count": 61
        }
      ]
    },
    {
      "cell_type": "code",
      "source": [
        "df_scatter = sb.scatterplot(data=df, x=\"Completions\", y=\"Rating\")"
      ],
      "metadata": {
        "colab": {
          "base_uri": "https://localhost:8080/",
          "height": 449
        },
        "id": "KLpLMOwMs83S",
        "outputId": "bef08efe-cb45-401d-aede-13f75991a436"
      },
      "execution_count": 62,
      "outputs": [
        {
          "output_type": "display_data",
          "data": {
            "text/plain": [
              "<Figure size 640x480 with 1 Axes>"
            ],
            "image/png": "[encoded data removed]"
          },
          "metadata": {}
        }
      ]
    },
    {
      "cell_type": "code",
      "source": [
        "df[\"logCMP\"] = np.log2(df[\"Completions\"].clip(1))\n",
        "df[\"logRating\"] = np.log2(df[\"Rating\"].clip(1))\n",
        "dfg = sb.regplot(data=df, x=\"logCMP\", y=\"logRating\",color=\"skyblue\", lowess=True)"
      ],
      "metadata": {
        "colab": {
          "base_uri": "https://localhost:8080/",
          "height": 449
        },
        "id": "mERbwWExqgpI",
        "outputId": "fa451a8a-aa74-4e60-c50d-144d6d935fa2"
      },
      "execution_count": 75,
      "outputs": [
        {
          "output_type": "display_data",
          "data": {
            "text/plain": [
              "<Figure size 640x480 with 1 Axes>"
            ],
            "image/png": "[encoded data removed]"
          },
          "metadata": {}
        }
      ]
    },
    {
      "source": [
        "from matplotlib import pyplot as plt\n",
        "df['CMP'].plot(kind='line', figsize=(8, 4), title='CMP')\n",
        "plt.gca().spines[['top', 'right']].set_visible(False)"
      ],
      "cell_type": "code",
      "metadata": {
        "colab": {
          "base_uri": "https://localhost:8080/",
          "height": 391
        },
        "id": "RAgDUuhb7x7q",
        "outputId": "ede73dd8-da6a-4af1-b0a8-294ae9cbecb5"
      },
      "execution_count": 51,
      "outputs": [
        {
          "output_type": "display_data",
          "data": {
            "text/plain": [
              "<Figure size 800x400 with 1 Axes>"
            ],
            "image/png": "[encoded data removed]"
          },
          "metadata": {}
        }
      ]
    }
  ]
}