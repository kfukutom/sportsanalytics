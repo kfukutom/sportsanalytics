{
 "cells": [
  {
   "cell_type": "code",
   "execution_count": 33,
   "metadata": {},
   "outputs": [
    {
     "data": {
      "text/plain": [
       "'\\n    Author: Ken Fukutomi\\n    Domain: University of Michigan\\n    Title: Analyzing the \"Goat\"\\n'"
      ]
     },
     "execution_count": 33,
     "metadata": {},
     "output_type": "execute_result"
    }
   ],
   "source": [
    "# Wolverine Sports Analytics \n",
    "\"\"\"\n",
    "    Author: Ken Fukutomi\n",
    "    Domain: University of Michigan\n",
    "    Title: Analyzing the \"Goat\"\n",
    "\"\"\""
   ]
  },
  {
   "cell_type": "code",
   "execution_count": 34,
   "metadata": {},
   "outputs": [],
   "source": [
    "# Begin Scraping data for LeGoat\n",
    "import requests\n",
    "from bs4 import BeautifulSoup\n",
    "import json"
   ]
  },
  {
   "cell_type": "code",
   "execution_count": 35,
   "metadata": {},
   "outputs": [
    {
     "data": {
      "text/plain": [
       "\"\\n    Ideas:\\n    - Scrape LeGoat and the Gambler's individual stats throughout their active career season(s)\\n    - Calculate Defensive Rating Average of Each Season (E.g., 1990-1991 vs. 2008-2009)\\n\""
      ]
     },
     "execution_count": 35,
     "metadata": {},
     "output_type": "execute_result"
    }
   ],
   "source": [
    "\"\"\"\n",
    "    Ideas:\n",
    "    - Scrape LeGoat and the Gambler's individual stats throughout their active career season(s)\n",
    "    - Calculate Defensive Rating Average of Each Season (E.g., 1990-1991 vs. 2008-2009)\n",
    "\"\"\""
   ]
  },
  {
   "cell_type": "code",
   "execution_count": 36,
   "metadata": {},
   "outputs": [],
   "source": [
    "# Webscrape Defensive Rating\n",
    "url = requests.get('https://www.basketball-reference.com/players/j/jamesle01.html#per_game')"
   ]
  },
  {
   "cell_type": "code",
   "execution_count": 105,
   "metadata": {},
   "outputs": [
    {
     "ename": "ModuleNotFoundError",
     "evalue": "No module named 'mysql'",
     "output_type": "error",
     "traceback": [
      "\u001b[0;31m---------------------------------------------------------------------------\u001b[0m",
      "\u001b[0;31mModuleNotFoundError\u001b[0m                       Traceback (most recent call last)",
      "Cell \u001b[0;32mIn[105], line 1\u001b[0m\n\u001b[0;32m----> 1\u001b[0m \u001b[38;5;28;01mimport\u001b[39;00m \u001b[38;5;21;01mmysql\u001b[39;00m\u001b[38;5;21;01m.\u001b[39;00m\u001b[38;5;21;01mconnector\u001b[39;00m\n",
      "\u001b[0;31mModuleNotFoundError\u001b[0m: No module named 'mysql'"
     ]
    }
   ],
   "source": [
    "import mysql.connector"
   ]
  },
  {
   "cell_type": "code",
   "execution_count": 87,
   "metadata": {},
   "outputs": [
    {
     "name": "stdout",
     "output_type": "stream",
     "text": [
      "[19, 'CLE', 'SG', 79, 79, 39.5, 7.9, 18.9, 0.417, 0.8, 2.7, 0.29, 7.1, 16.1, 0.438, 0.438, 4.4, 5.8, 0.759, 1.3, 4.2, 5.5, 5.9, 1.6, 0.7, 3.5, 1.9, 20.9]\n",
      "[20, 'CLE', 'SF', 80, 80, 42.4, 9.9, 21.1, 0.472, 1.4, 3.9, 0.351, 8.6, 17.2, 0.499, 0.504, 6.0, 8.0, 0.75, 1.4, 6.0, 7.4, 7.2, 2.2, 0.7, 3.3, 1.8, 27.2]\n",
      "[21, 'CLE', 'SF', 79, 79, 42.5, 11.1, 23.1, 0.48, 1.6, 4.8, 0.335, 9.5, 18.3, 0.518, 0.515, 7.6, 10.3, 0.738, 0.9, 6.1, 7.0, 6.6, 1.6, 0.8, 3.3, 2.3, 31.4]\n",
      "[22, 'CLE', 'SF', 78, 78, 40.9, 9.9, 20.8, 0.476, 1.3, 4.0, 0.319, 8.6, 16.8, 0.513, 0.507, 6.3, 9.0, 0.7, 1.1, 5.7, 6.7, 6.0, 1.6, 0.7, 3.2, 2.2, 27.3]\n",
      "[23, 'CLE', 'SF', 75, 74, 40.4, 10.6, 21.9, 0.484, 1.5, 4.8, 0.315, 9.1, 17.1, 0.531, 0.518, 7.3, 10.3, 0.709, 1.8, 6.1, 7.9, 7.2, 1.8, 1.1, 3.4, 2.2, 30.0]\n",
      "[24, 'CLE', 'SF', 81, 81, 37.7, 9.7, 19.9, 0.489, 1.6, 4.7, 0.344, 8.1, 15.2, 0.535, 0.53, 7.3, 9.4, 0.777, 1.3, 6.3, 7.6, 7.2, 1.7, 1.1, 3.0, 1.7, 28.4]\n",
      "[25, 'CLE', 'SF', 76, 76, 39.0, 10.1, 20.1, 0.503, 1.7, 5.1, 0.333, 8.4, 15.0, 0.56, 0.545, 7.8, 10.2, 0.765, 0.9, 6.4, 7.3, 8.6, 1.6, 1.0, 3.4, 1.6, 29.7]\n",
      "[26, 'MIA', 'SF', 79, 79, 38.8, 9.6, 18.8, 0.51, 1.2, 3.5, 0.33, 8.4, 15.3, 0.552, 0.541, 6.4, 8.4, 0.762, 1.0, 6.5, 7.5, 7.0, 1.6, 0.6, 3.6, 2.1, 26.7]\n",
      "[27, 'MIA', 'SF', 62, 62, 37.5, 10.0, 18.9, 0.531, 0.9, 2.4, 0.362, 9.1, 16.5, 0.556, 0.554, 6.2, 8.1, 0.765, 1.5, 6.4, 7.9, 6.2, 1.9, 0.8, 3.4, 1.5, 27.1]\n",
      "[28, 'MIA', 'PF', 76, 76, 37.9, 10.1, 17.8, 0.565, 1.4, 3.3, 0.406, 8.7, 14.5, 0.602, 0.603, 5.3, 7.0, 0.757, 1.3, 6.8, 8.0, 7.3, 1.7, 0.9, 3.0, 1.4, 26.8]\n",
      "[29, 'MIA', 'PF', 77, 77, 37.7, 10.0, 17.6, 0.567, 1.5, 4.0, 0.379, 8.5, 13.6, 0.622, 0.61, 5.7, 7.6, 0.75, 1.1, 5.9, 6.9, 6.3, 1.6, 0.3, 3.5, 1.6, 27.1]\n",
      "[30, 'CLE', 'SF', 69, 69, 36.1, 9.0, 18.5, 0.488, 1.7, 4.9, 0.354, 7.3, 13.6, 0.536, 0.535, 5.4, 7.7, 0.701, 0.7, 5.3, 6.0, 7.4, 1.6, 0.7, 3.9, 2.0, 25.3]\n",
      "[31, 'CLE', 'SF', 76, 76, 35.6, 9.7, 18.6, 0.52, 1.1, 3.7, 0.309, 8.6, 14.9, 0.573, 0.551, 4.7, 6.5, 0.723, 1.5, 6.0, 7.4, 6.8, 1.4, 0.6, 3.3, 1.9, 25.3]\n",
      "[32, 'CLE', 'SF', 74, 74, 37.8, 9.9, 18.2, 0.548, 1.7, 4.6, 0.363, 8.3, 13.5, 0.611, 0.594, 4.8, 7.2, 0.667, 1.3, 7.3, 8.6, 8.7, 1.2, 0.6, 4.1, 1.8, 26.4]\n",
      "[33, 'CLE', 'PF', 82, 82, 36.9, 10.5, 19.3, 0.542, 1.8, 5.0, 0.367, 8.6, 14.3, 0.603, 0.59, 4.7, 6.5, 0.723, 1.2, 7.5, 8.6, 9.1, 1.4, 0.9, 4.2, 1.7, 27.5]\n",
      "[34, 'LAL', 'SF', 55, 55, 35.2, 10.1, 19.9, 0.51, 2.0, 5.9, 0.339, 8.1, 14.0, 0.582, 0.56, 5.1, 7.6, 0.671, 1.0, 7.4, 8.5, 8.3, 1.3, 0.6, 3.6, 1.7, 27.4]\n",
      "[35, 'LAL', 'PG', 67, 67, 34.6, 9.6, 19.4, 0.493, 2.2, 6.3, 0.348, 7.4, 13.1, 0.564, 0.55, 3.9, 5.7, 0.684, 1.0, 6.9, 7.8, 10.2, 1.2, 0.5, 3.9, 1.8, 25.3]\n",
      "[36, 'LAL', 'PG', 45, 45, 33.4, 9.4, 18.3, 0.513, 2.3, 6.3, 0.365, 7.1, 12.0, 0.591, 0.576, 4.0, 5.7, 0.702, 0.6, 7.0, 7.7, 7.8, 1.1, 0.6, 3.7, 1.6, 25.0]\n",
      "[37, 'LAL', 'C', 56, 56, 37.2, 11.4, 21.8, 0.524, 2.9, 8.0, 0.359, 8.6, 13.8, 0.62, 0.59, 4.5, 6.0, 0.75, 1.1, 7.1, 8.2, 6.2, 1.3, 1.1, 3.5, 2.2, 30.3]\n",
      "[38, 'LAL', 'PF', 55, 54, 35.5, 11.1, 22.2, 0.5, 2.2, 6.9, 0.321, 8.9, 15.3, 0.58, 0.549, 4.6, 5.9, 0.78, 1.2, 7.1, 8.3, 6.8, 0.9, 0.6, 3.2, 1.6, 28.9]\n",
      "[39, 'LAL', 'PF', 57, 57, 35.1, 9.6, 18.1, 0.53, 2.2, 5.4, 0.407, 7.4, 12.7, 0.581, 0.59, 4.0, 5.4, 0.741, 0.8, 6.2, 7.1, 8.0, 1.2, 0.6, 3.2, 1.2, 25.3]\n"
     ]
    }
   ],
   "source": [
    "cnx = mysq\n",
    "soup = BeautifulSoup(url.text, 'html.parser')\n",
    "#print(soup.prettify())\n",
    "\n",
    "table = soup.find('div', attrs = {'id' : 'switcher_per_game-playoffs_per_game'}).find('table').find('tbody')\n",
    "#print(table.prettify()) # tbody tag, check containers\n",
    "\n",
    "rows = table.find_all('tr')\n",
    "for row in rows:\n",
    "    # get year tag, 'th'\n",
    "    year = row.find('th', attrs = {'scope' : 'row'}).text\n",
    "    columns = row.find_all('td')\n",
    "    if columns:\n",
    "        age = int(columns[0].text)\n",
    "        team = (columns[1].text)\n",
    "        position = (columns[3].text)\n",
    "        games_played = int(columns[4].text)\n",
    "        games_started = int(columns[5].text)\n",
    "        minute_played = float(columns[6].text)\n",
    "        fgm = float(columns[7].text)\n",
    "        fga = float(columns[8].text)\n",
    "        fgpct = float(columns[9].text)\n",
    "        tpm = float(columns[10].text)\n",
    "        tpa = float(columns[11].text)\n",
    "        tpp = float(columns[12].text) # 3p%\n",
    "        two_point_made = float(columns[13].text)\n",
    "        two_point_attempted = float(columns[14].text)\n",
    "        two_point_pct = float(columns[15].text)\n",
    "        eFG = float(columns[16].text) # estimated field goal percentage\n",
    "        FT = float(columns[17].text)\n",
    "        FTA = float(columns[18].text)\n",
    "        FT_PCT = round((FT/FTA), 3)\n",
    "        orb = float(columns[20].text)\n",
    "        drb = float(columns[21].text)\n",
    "        trb = float(columns[22].text)\n",
    "        ast = float(columns[23].text)\n",
    "        stl = float(columns[24].text)\n",
    "        blk = float(columns[25].text)\n",
    "        tov = float(columns[26].text)\n",
    "        pf = float(columns[27].text)\n",
    "        PPG = float(columns[28].text)\n",
    "\n",
    "\n",
    "        \n",
    "    values = [age, team, position, games_played,\n",
    "              games_started, minute_played, fgm, fga,\n",
    "              fgpct, tpm, tpa, tpp, two_point_made,\n",
    "              two_point_attempted, two_point_pct, eFG,\n",
    "              FT, FTA, FT_PCT, orb, drb, trb, ast, stl,\n",
    "              blk, tov, pf, PPG] # end of personal stats\n",
    "    #print(values)\n",
    "\n",
    "        "
   ]
  }
 ],
 "metadata": {
  "kernelspec": {
   "display_name": "Python 3",
   "language": "python",
   "name": "python3"
  },
  "language_info": {
   "codemirror_mode": {
    "name": "ipython",
    "version": 3
   },
   "file_extension": ".py",
   "mimetype": "text/x-python",
   "name": "python",
   "nbconvert_exporter": "python",
   "pygments_lexer": "ipython3",
   "version": "3.11.5"
  }
 },
 "nbformat": 4,
 "nbformat_minor": 2
}
